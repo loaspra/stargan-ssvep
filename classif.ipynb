{
 "cells": [
  {
   "attachments": {},
   "cell_type": "markdown",
   "metadata": {},
   "source": [
    "## FBCCA and Extended FBCCA for SSVEP signals classification"
   ]
  },
  {
   "cell_type": "code",
   "execution_count": 2,
   "metadata": {},
   "outputs": [],
   "source": [
    "# Imports:\n",
    "import numpy as np\n",
    "import scipy.io as sio\n",
    "import matplotlib.pyplot as plt\n",
    "import scipy.signal as signal\n",
    "import scipy.io as sio\n",
    "\n",
    "import re\n",
    "\n",
    "from sklearn.cross_decomposition import CCA\n",
    "from sklearn.metrics import confusion_matrix\n",
    "from sklearn.metrics import accuracy_score\n",
    "from sklearn.metrics import cohen_kappa_score\n",
    "from sklearn.metrics import classification_report\n",
    "\n",
    "from scipy.signal import butter, lfilter\n",
    "\n",
    "import os"
   ]
  },
  {
   "cell_type": "markdown",
   "metadata": {},
   "source": [
    "## Description of the task:\n",
    "\n",
    "To implement the FBCCA method on python, follow these steps:\n",
    "\n",
    "- Define the parameters for the FBCCA method, such as the number of harmonics (Nh), the weight vector (w), the number of sub-bands (N), and the filter bank design (M1, M2, or M3): (M1: sub-bands with equally spaced bandwidths; M2: sub-bands corresponding to individual harmonic frequency bands; M3: sub-bands covering multiple harmonic frequency bands.\n",
    "\n",
    "- Define the reference signals for each stimulation frequency using function 5 (generate_ref_signgal). The reference signals should have a shape of (n_samples, Nh * 2), where n_samples is the number of samples in your signal window.\n",
    "\n",
    "- Define a function to perform CCA between two multi-dimensional variables. Use the CCA module from sklearn.cross_decomposition.\n",
    "\n",
    "- Define a function to perform filter bank analysis on your SSVEP signals using a zero-phase Chebyshev Type I IIR filter. You can use the filtfilt() function from scipy.signal to apply the filter. The filter bank analysis should output a set of sub-band signals, each with a shape of (n_samples, n_channels), where n_channels is the number of channels in your signals.\n",
    "\n",
    "- For each sub-band signal, apply the CCA function to calculate the correlation vector between the sub-band signal and the reference signals for each stimulation frequency using equation (5). The correlation vector should have a shape of (1, Nh * 2).\n",
    "\n",
    "- For each stimulation frequency, calculate the feature vector by using a weighted sum of squares of the correlation values corresponding to all sub-band components using equation (6). The feature vector should have a shape of (1, N).\n",
    "\n",
    "- Compare the feature vector with a threshold value to determine the target frequency. The threshold value can be optimized by a grid search method. If the feature vector exceeds the threshold value, then the target frequency is the frequency corresponding to the reference signal. If not, then the target frequency is unknown.\n",
    "Source: \"Filter bank canonical correlation analysis for implementing a high-speed\" by Xiaogang Chen, et al. 2015\n",
    "SSVEP-based brain-computer interface\n",
    "https://pubmed.ncbi.nlm.nih.gov/26035476/\n"
   ]
  },
  {
   "cell_type": "markdown",
   "metadata": {},
   "source": [
    "> Obs:\n",
    "\n",
    "The bandwidth of the stimulation frequencies (8-15.8Hz) was 8Hz in this study\n",
    "\n",
    "Therefore, the frequency\n",
    "range within [8Hz 88Hz] (i.e., 10 times of the bandwidth of the stimulation frequencies)"
   ]
  },
  {
   "cell_type": "code",
   "execution_count": 38,
   "metadata": {},
   "outputs": [],
   "source": [
    "\"\"\"Utility functions\"\"\"\n",
    "\n",
    "# Function 5: generate_ref_signal\n",
    "# Input: Freq_phase_path, SSVEP frecuencies (targets), number of samples, number of harmonics, sampling frequency\n",
    "# Output: reference signal\n",
    "def generate_ref_signal(Freq_phase_path: str, freqs: list, N: int, n_harmonics: int, fs: int) -> np.ndarray:\n",
    "    data = sio.loadmat(Freq_phase_path)\n",
    "    index_freqs = data['freqs'].round(1).reshape(-1).tolist()\n",
    "    phases = data['phases'].reshape(-1)  # phases\n",
    "\n",
    "        # Reference signal\n",
    "    ref_signal = np.zeros((N, len(freqs), n_harmonics * 2,))\n",
    "    # For each frequency\n",
    "    f = 0\n",
    "    for frequency in freqs:\n",
    "        phase = phases[index_freqs.index(round(frequency, 1))]\n",
    "        \n",
    "        # For each harmonic\n",
    "        for i in range(0, n_harmonics):\n",
    "            # Sinusoid\n",
    "            ref_signal[:, f, i] = np.sin(2 * np.pi * frequency * (i + 1) * np.arange(N) / fs + phase)\n",
    "            # Cosinusoid\n",
    "            ref_signal[:, f, i + 1] = np.cos(2 * np.pi * frequency * (i + 1) * np.arange(N) / fs + phase)\n",
    "       \n",
    "        f+=1\n",
    "\n",
    "    return ref_signal.swapaxes(0, 2)\n",
    "\n",
    "# Function 1: filter_bank_analysis\n",
    "# Input: signal, sampling frequency, number of sub-bands, filter bank design\n",
    "# Output: sub-band signals\n",
    "def filter_bank_analysis(in_signal, fs, n_subbands, filter_bank_design, low_freq, up_freq):\n",
    "    # Number of channels\n",
    "    n_channels = in_signal.shape[0]\n",
    "    # Number of samples\n",
    "    n_samples = in_signal.shape[1]\n",
    "\n",
    "    gpass, gstop, Rp = 3, 40, 0.5\n",
    "    highcut_pass, highcut_stop = 80, 90\n",
    "\n",
    "    # Filter bank design\n",
    "    if filter_bank_design == 'M1': # N_subbands of the same length\n",
    "        # Sub-band signals\n",
    "        subband_signals = np.zeros((n_subbands, n_channels, n_samples))\n",
    "        # For each sub-band\n",
    "        for i in range(0, n_subbands):\n",
    "            \n",
    "            passband = low_freq * (i + 2)\n",
    "            stopband = low_freq * (i + 1)\n",
    "            \n",
    "            Wp = [passband / (fs/2), highcut_pass / (fs/2)]\n",
    "            Ws = [stopband / (fs/2), highcut_stop / (fs/2)]\n",
    "            \n",
    "            N, Wn = signal.cheb1ord(Wp, Ws, gpass, gstop)\n",
    "            \n",
    "            # Sub-band filter\n",
    "            b, a = signal.cheby1(N, 0.1, Wn, 'bandpass')\n",
    "            # Filtered signal\n",
    "            subband_signals[i, :, :] = signal.filtfilt(b, a, in_signal)\n",
    "    \n",
    "    elif filter_bank_design == 'M2':\n",
    "        raise NotImplementedError()\n",
    "    \n",
    "    elif filter_bank_design == 'M3':\n",
    "        raise NotImplementedError()\n",
    "    \n",
    "    else:\n",
    "        raise NotImplementedError(\"Design not supported\")\n",
    "\n",
    "    return subband_signals\n",
    "\n",
    "#  - Define a function to perform CCA between two multi-dimensional variables. Use the CCA module from sklearn.cross_decomposition.\n",
    "# Function 2: cca\n",
    "# Input: signal 1, signal 2\n",
    "# Output: correlation vector\n",
    "def cca(signal1, signal2):\n",
    "    # Canonical correlation analysis\n",
    "    cca = CCA(1)\n",
    "    \n",
    "    # Fit the model with signal 1 and signal 2\n",
    "    cca.fit(signal1.T, signal2.T)\n",
    "\n",
    "    # Correlation vector\n",
    "    X_c, Y_c = cca.transform(signal1.T, signal2.T)\n",
    "\n",
    "    return X_c, Y_c\n",
    "\n",
    "# Function 3: feature_extraction\n",
    "# Input: sub-band signals, reference signals, weight vector\n",
    "# Output: feature vector\n",
    "def feature_extraction(subband_signals, ref_signals, n_freq):\n",
    "    # Number of sub-band signals\n",
    "    n_subbands = subband_signals.shape[0]\n",
    "    # Feature vector\n",
    "    feature_vector = np.zeros(ref_signals.shape[1])\n",
    "    # Class predicted\n",
    "    fb_coefs = [pow(i, -1.25) + 0.25 for i in range(1, n_subbands + 1)]\n",
    "    result = 0\n",
    "    # For each sub-band signal\n",
    "    for sub in range(n_subbands):\n",
    "        for freq in range(ref_signals.shape[1]):\n",
    "            # Correlation vector\n",
    "            X_c, Y_c = cca(subband_signals[sub, :, :], ref_signals[:, freq, :])\n",
    "            # Pearson correlation coefficient\n",
    "            correl = np.corrcoef(X_c[:, 0], Y_c[:, 0])[0, 1]\n",
    "        \n",
    "            feature_vector[freq] = np.max(correl)\n",
    "            result += (fb_coefs[sub] * (feature_vector ** 2))\n",
    "\n",
    "        predicted = np.argmax(result) + 1\n",
    "\n",
    "    return predicted\n",
    "\n",
    "\n",
    "# Function 4: fbcca\n",
    "# Input: signal, sampling frequency, number of harmonics, number of sub-bands, filter bank design, weight vector, reference signals\n",
    "# Output: target frequency\n",
    "def fbcca(in_signal, fs, n_subbands, filter_bank_design, w, ref_signals, lowest_freq, upmost_freq):\n",
    "    # Sub-band signals\n",
    "    in_signal = in_signal.swapaxes(0, 1)\n",
    "    subband_signals = filter_bank_analysis(in_signal, fs, n_subbands, filter_bank_design, lowest_freq, upmost_freq)\n",
    "    # Target frequency\n",
    "    predicted = feature_extraction(subband_signals, ref_signals, w)\n",
    "    return predicted\n"
   ]
  },
  {
   "cell_type": "markdown",
   "metadata": {},
   "source": [
    "\n",
    "The frequency and phase values are used to generate the SSVEP stimuli. The stimuli are generated by the following equation:\n",
    "\n",
    "$$\n",
    "x(t) = sin(2\\pi f t + \\phi)\n",
    "$$\n",
    "\n",
    "where $f$ is the frequency and $\\phi$ is the phase value."
   ]
  },
  {
   "cell_type": "code",
   "execution_count": 32,
   "metadata": {},
   "outputs": [],
   "source": [
    "# SSVEP target frequencies\n",
    "frequencies = [8, 10]\n",
    "# Number of samples\n",
    "N = 1000\n",
    "# Sampling frequency\n",
    "fs = 250\n",
    "# Number of harmonics\n",
    "n_harmonics = 3\n",
    "# Number of sub-bands\n",
    "n_subbands = 8\n",
    "# Filter bank design\n",
    "filter_bank_design = 'M1'\n",
    "# Weight vector\n",
    "w = np.ones((2, n_harmonics * 2))\n",
    "# Reference signals\n",
    "ref_signals = generate_ref_signal('data/raw/Freq_Phase.mat', frequencies, N, n_harmonics, fs)"
   ]
  },
  {
   "cell_type": "code",
   "execution_count": 4,
   "metadata": {},
   "outputs": [],
   "source": [
    "accs = []\n",
    "# Calculate de accuracy of the FBCCA algorithm for each subject and using 4 different window sizes (0.5, 1, 2, 4 seconds)\n",
    "# each subject has 7 files for each frequency (8Hz and 10Hz). FOr example, subject 1 has S1_0, S1_1, S1_2, S1_3, S1_4, S1_5, S1_6 on each SSVEP target frequencyy (1 and 2)\n",
    "path = 'data/staged/' # /1 -> 8Hz and /2 -> 10Hz\n",
    "\n",
    "# For each subject (data/staged/1/S1_0 ... S1_6.npy)\n",
    "subjects = set(os.listdir(path).split(\"_\")[0])\n",
    "print(subjects)\n",
    "for subject in subjects:\n",
    "    # For each file (data/staged/1/S1_0.npy)\n",
    "    for file in subjects:\n",
    "        # Load the file\n",
    "        in_signal = np.load(path + subject + '/' + file)\n",
    "        # Target frequency\n",
    "        target_frequency = fbcca(in_signal, fs, n_subbands, filter_bank_design, w, ref_signals, 8, 88)\n",
    "        # Accuracy\n",
    "        acc = accuracy_score(int(subject[1]), target_frequency)\n",
    "        accs.append(acc)\n",
    "\n",
    "\n",
    "# Signal\n",
    "in_signal = np.load('data/final/1/S1_0.npy') # Shape: (1000, 3)\n",
    "# Target frequency  \n",
    "target_frequency = fbcca(in_signal, fs, n_subbands, filter_bank_design, w, ref_signals, 8, 88)\n",
    "print(target_frequency)"
   ]
  },
  {
   "cell_type": "code",
   "execution_count": 49,
   "metadata": {},
   "outputs": [],
   "source": [
    "def get_acc_of_subject(subject, path):\n",
    "    \n",
    "    # get all .npy files of the subject\n",
    "    files = os.listdir(path)\n",
    "\n",
    "    label = 2\n",
    "\n",
    "    print(f\"Subject files: {files}\")\n",
    "\n",
    "    predictions = []\n",
    "\n",
    "    for file in files:\n",
    "        if re.match(f\"^{subject}_.\\.npy$\", file) and file.endswith(\".npy\"):\n",
    "            print(f\"File: {file}\")\n",
    "            in_signal = np.load(path + file)\n",
    "            target_frequency = fbcca(in_signal, fs, n_subbands, filter_bank_design, w, ref_signals, 8, 88)\n",
    "            predictions.append(target_frequency)\n",
    "        \n",
    "    targets = np.ones(len(predictions)) * label\n",
    "    print(f\"Predictions: {predictions}\")\n",
    "    # calculate the accuracy\n",
    "    acc = accuracy_score(targets, predictions)\n",
    "    print(acc)\n",
    "\n",
    "    return acc\n"
   ]
  },
  {
   "cell_type": "code",
   "execution_count": 54,
   "metadata": {},
   "outputs": [
    {
     "name": "stdout",
     "output_type": "stream",
     "text": [
      "Subject files: ['S10_0.npy', 'S10_1.npy', 'S10_2.npy', 'S10_3.npy', 'S10_4.npy', 'S10_5.npy', 'S10_6.npy', 'S11_0.npy', 'S11_1.npy', 'S11_2.npy', 'S11_3.npy', 'S11_4.npy', 'S11_5.npy', 'S11_6.npy', 'S12_0.npy', 'S12_1.npy', 'S12_2.npy', 'S12_3.npy', 'S12_4.npy', 'S12_5.npy', 'S12_6.npy', 'S13_0.npy', 'S13_1.npy', 'S13_2.npy', 'S13_3.npy', 'S13_4.npy', 'S13_5.npy', 'S13_6.npy', 'S14_0.npy', 'S14_1.npy', 'S14_2.npy', 'S14_3.npy', 'S14_4.npy', 'S14_5.npy', 'S14_6.npy', 'S15_0.npy', 'S15_1.npy', 'S15_2.npy', 'S15_3.npy', 'S15_4.npy', 'S15_5.npy', 'S15_6.npy', 'S16_0.npy', 'S16_1.npy', 'S16_2.npy', 'S16_3.npy', 'S16_4.npy', 'S16_5.npy', 'S16_6.npy', 'S17_0.npy', 'S17_1.npy', 'S17_2.npy', 'S17_3.npy', 'S17_4.npy', 'S17_5.npy', 'S17_6.npy', 'S18_0.npy', 'S18_1.npy', 'S18_2.npy', 'S18_3.npy', 'S18_4.npy', 'S18_5.npy', 'S18_6.npy', 'S19_0.npy', 'S19_1.npy', 'S19_2.npy', 'S19_3.npy', 'S19_4.npy', 'S19_5.npy', 'S19_6.npy', 'S1_0.npy', 'S1_1.npy', 'S1_2.npy', 'S1_3.npy', 'S1_4.npy', 'S1_5.npy', 'S1_6.npy', 'S20_0.npy', 'S20_1.npy', 'S20_2.npy', 'S20_3.npy', 'S20_4.npy', 'S20_5.npy', 'S20_6.npy', 'S21_0.npy', 'S21_1.npy', 'S21_2.npy', 'S21_3.npy', 'S21_4.npy', 'S21_5.npy', 'S21_6.npy', 'S22_0.npy', 'S22_1.npy', 'S22_2.npy', 'S22_3.npy', 'S22_4.npy', 'S22_5.npy', 'S22_6.npy', 'S23_0.npy', 'S23_1.npy', 'S23_2.npy', 'S23_3.npy', 'S23_4.npy', 'S23_5.npy', 'S23_6.npy', 'S24_0.npy', 'S24_1.npy', 'S24_2.npy', 'S24_3.npy', 'S24_4.npy', 'S24_5.npy', 'S24_6.npy', 'S25_0.npy', 'S25_1.npy', 'S25_2.npy', 'S25_3.npy', 'S25_4.npy', 'S25_5.npy', 'S25_6.npy', 'S26_0.npy', 'S26_1.npy', 'S26_2.npy', 'S26_3.npy', 'S26_4.npy', 'S26_5.npy', 'S26_6.npy', 'S27_0.npy', 'S27_1.npy', 'S27_2.npy', 'S27_3.npy', 'S27_4.npy', 'S27_5.npy', 'S27_6.npy', 'S28_0.npy', 'S28_1.npy', 'S28_2.npy', 'S28_3.npy', 'S28_4.npy', 'S28_5.npy', 'S28_6.npy', 'S29_0.npy', 'S29_1.npy', 'S29_2.npy', 'S29_3.npy', 'S29_4.npy', 'S29_5.npy', 'S29_6.npy', 'S2_0.npy', 'S2_1.npy', 'S2_2.npy', 'S2_3.npy', 'S2_4.npy', 'S2_5.npy', 'S2_6.npy', 'S30_0.npy', 'S30_1.npy', 'S30_2.npy', 'S30_3.npy', 'S30_4.npy', 'S30_5.npy', 'S30_6.npy', 'S31_0.npy', 'S31_1.npy', 'S31_2.npy', 'S31_3.npy', 'S31_4.npy', 'S31_5.npy', 'S31_6.npy', 'S32_0.npy', 'S32_1.npy', 'S32_2.npy', 'S32_3.npy', 'S32_4.npy', 'S32_5.npy', 'S32_6.npy', 'S33_0.npy', 'S33_1.npy', 'S33_2.npy', 'S33_3.npy', 'S33_4.npy', 'S33_5.npy', 'S33_6.npy', 'S34_0.npy', 'S34_1.npy', 'S34_2.npy', 'S34_3.npy', 'S34_4.npy', 'S34_5.npy', 'S34_6.npy', 'S35_0.npy', 'S35_1.npy', 'S35_2.npy', 'S35_3.npy', 'S35_4.npy', 'S35_5.npy', 'S35_6.npy', 'S3_0.npy', 'S3_1.npy', 'S3_2.npy', 'S3_3.npy', 'S3_4.npy', 'S3_5.npy', 'S3_6.npy', 'S4_0.npy', 'S4_1.npy', 'S4_2.npy', 'S4_3.npy', 'S4_4.npy', 'S4_5.npy', 'S4_6.npy', 'S5_0.npy', 'S5_1.npy', 'S5_2.npy', 'S5_3.npy', 'S5_4.npy', 'S5_5.npy', 'S5_6.npy', 'S6_0.npy', 'S6_1.npy', 'S6_2.npy', 'S6_3.npy', 'S6_4.npy', 'S6_5.npy', 'S6_6.npy', 'S7_0.npy', 'S7_1.npy', 'S7_2.npy', 'S7_3.npy', 'S7_4.npy', 'S7_5.npy', 'S7_6.npy', 'S8_0.npy', 'S8_1.npy', 'S8_2.npy', 'S8_3.npy', 'S8_4.npy', 'S8_5.npy', 'S8_6.npy', 'S9_0.npy', 'S9_1.npy', 'S9_2.npy', 'S9_3.npy', 'S9_4.npy', 'S9_5.npy', 'S9_6.npy']\n",
      "File: S4_0.npy\n",
      "File: S4_1.npy\n",
      "File: S4_2.npy\n",
      "File: S4_3.npy\n",
      "File: S4_4.npy\n",
      "File: S4_5.npy\n",
      "File: S4_6.npy\n",
      "Predictions: [2, 2, 2, 2, 2, 1, 2]\n",
      "0.8571428571428571\n"
     ]
    },
    {
     "data": {
      "text/plain": [
       "0.8571428571428571"
      ]
     },
     "execution_count": 54,
     "metadata": {},
     "output_type": "execute_result"
    }
   ],
   "source": [
    "path = \"data/staged/1/\"\n",
    "get_acc_of_subject(\"S4\", path)"
   ]
  },
  {
   "cell_type": "code",
   "execution_count": 10,
   "metadata": {},
   "outputs": [
    {
     "name": "stdout",
     "output_type": "stream",
     "text": [
      "(1000, 3)\n"
     ]
    },
    {
     "data": {
      "text/plain": [
       "(1.0, 22.0)"
      ]
     },
     "execution_count": 10,
     "metadata": {},
     "output_type": "execute_result"
    },
    {
     "data": {
      "image/png": "[encoded data removed]",
      "text/plain": [
       "<Figure size 640x480 with 1 Axes>"
      ]
     },
     "metadata": {},
     "output_type": "display_data"
    }
   ],
   "source": [
    "data = r\"data\\train\\1\\S1_0.npy\"\n",
    "\n",
    "sample = (np.load(data))\n",
    "print(sample.shape)\n",
    "x = sample[:, 1]\n",
    "# plot the power spectrum\n",
    "# transform to frequency domain, using the FFT algorithm (range of 0 - 20 Hz)\n",
    "fft = np.fft.fft(x)\n",
    "# calculate the frequencies\n",
    "freqs = np.fft.fftfreq(len(x)) * 250\n",
    "# plot the power spectrum\n",
    "plt.stem(freqs, abs(fft))\n",
    "# Red stem on 8hz\n",
    "plt.stem(14, abs(fft)[14], 'r')\n",
    "plt.xlabel('Frequency (Hz)')\n",
    "plt.ylabel('Power')\n",
    "plt.xlim(1, 22)"
   ]
  },
  {
   "cell_type": "code",
   "execution_count": null,
   "metadata": {},
   "outputs": [],
   "source": []
  }
 ],
 "metadata": {
  "kernelspec": {
   "display_name": "thes-stargan",
   "language": "python",
   "name": "python3"
  },
  "language_info": {
   "codemirror_mode": {
    "name": "ipython",
    "version": 3
   },
   "file_extension": ".py",
   "mimetype": "text/x-python",
   "name": "python",
   "nbconvert_exporter": "python",
   "pygments_lexer": "ipython3",
   "version": "3.7.12"
  },
  "orig_nbformat": 4
 },
 "nbformat": 4,
 "nbformat_minor": 2
}
