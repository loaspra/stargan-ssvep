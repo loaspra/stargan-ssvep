{
 "cells": [
  {
   "attachments": {},
   "cell_type": "markdown",
   "metadata": {},
   "source": [
    "## FBCCA and Extended FBCCA for SSVEP signals classification"
   ]
  },
  {
   "cell_type": "code",
   "execution_count": 2,
   "metadata": {},
   "outputs": [],
   "source": [
    "# Imports:\n",
    "import numpy as np\n",
    "import scipy.io as sio\n",
    "import matplotlib.pyplot as plt\n",
    "import scipy.signal as signal\n",
    "import scipy.io as sio\n",
    "\n",
    "import re\n",
    "\n",
    "from sklearn.cross_decomposition import CCA\n",
    "from sklearn.metrics import confusion_matrix\n",
    "from sklearn.metrics import accuracy_score\n",
    "from sklearn.metrics import cohen_kappa_score\n",
    "from sklearn.metrics import classification_report\n",
    "\n",
    "from scipy.signal import butter, lfilter\n",
    "\n",
    "import os"
   ]
  },
  {
   "cell_type": "markdown",
   "metadata": {},
   "source": [
    "## Description of the task:\n",
    "\n",
    "To implement the FBCCA method on python, follow these steps:\n",
    "\n",
    "- Define the parameters for the FBCCA method, such as the number of harmonics (Nh), the weight vector (w), the number of sub-bands (N), and the filter bank design (M1, M2, or M3): (M1: sub-bands with equally spaced bandwidths; M2: sub-bands corresponding to individual harmonic frequency bands; M3: sub-bands covering multiple harmonic frequency bands.\n",
    "\n",
    "- Define the reference signals for each stimulation frequency using function 5 (generate_ref_signal). The reference signals should have a shape of (n_samples, Nh * 2), where n_samples is the number of samples in your signal window.\n",
    "\n",
    "- Define a function to perform CCA between two multi-dimensional variables. Use the CCA module from sklearn.cross_decomposition.\n",
    "\n",
    "- Define a function to perform filter bank analysis on your SSVEP signals using a zero-phase Chebyshev Type I IIR filter. You can use the filtfilt() function from scipy.signal to apply the filter. The filter bank analysis should output a set of sub-band signals, each with a shape of (n_samples, n_channels), where n_channels is the number of channels in your signals.\n",
    "\n",
    "- For each sub-band signal, apply the CCA function to calculate the correlation vector between the sub-band signal and the reference signals for each stimulation frequency using equation (5). The correlation vector should have a shape of (1, Nh * 2).\n",
    "\n",
    "- For each stimulation frequency, calculate the feature vector by using a weighted sum of squares of the correlation values corresponding to all sub-band components using equation (6). The feature vector should have a shape of (1, N).\n",
    "\n",
    "- Compare the feature vector with a threshold value to determine the target frequency. The threshold value can be optimized by a grid search method. If the feature vector exceeds the threshold value, then the target frequency is the frequency corresponding to the reference signal. If not, then the target frequency is unknown.\n",
    "Source: \"Filter bank canonical correlation analysis for implementing a high-speed\" by Xiaogang Chen, et al. 2015\n",
    "SSVEP-based brain-computer interface\n",
    "https://pubmed.ncbi.nlm.nih.gov/26035476/\n"
   ]
  },
  {
   "cell_type": "markdown",
   "metadata": {},
   "source": [
    "> Obs:\n",
    "\n",
    "The bandwidth of the stimulation frequencies (8-15.8Hz) was 8Hz in this study\n",
    "\n",
    "Therefore, the frequency\n",
    "range within [8Hz 88Hz] (i.e., 10 times of the bandwidth of the stimulation frequencies)"
   ]
  },
  {
   "cell_type": "code",
   "execution_count": 3,
   "metadata": {},
   "outputs": [],
   "source": [
    "\"\"\"Utility functions\"\"\"\n",
    "\n",
    "def get_FFT(x):\n",
    "    fft = abs(np.fft.fft(x))\n",
    "    # calculate the frequencies\n",
    "    freqs = np.fft.fftfreq(len(x)) * 250\n",
    "    return fft, freqs\n",
    "\n",
    "\n",
    "# Function 5: generate_ref_signal\n",
    "# Input: Freq_phase_path, SSVEP frecuencies (targets), number of samples, number of harmonics, sampling frequency\n",
    "# Output: reference signal\n",
    "def generate_ref_signal(Freq_phase_path: str, freqs: list, N: int, n_harmonics: int, fs: int) -> np.ndarray:\n",
    "    data = sio.loadmat(Freq_phase_path)\n",
    "    index_freqs = data['freqs'].round(1).reshape(-1).tolist()\n",
    "    phases = data['phases'].reshape(-1)  # phases\n",
    "\n",
    "    # Reference signal\n",
    "    ref_signal = np.zeros((n_harmonics * 2, len(freqs), N))\n",
    "    # For each frequency\n",
    "    f = 0\n",
    "    for frequency in freqs:\n",
    "        phase = phases[index_freqs.index(round(frequency, 1))]\n",
    "        \n",
    "        # For each harmonic\n",
    "        for i in range(0, n_harmonics):\n",
    "            # Sinusoid\n",
    "            ref_signal[i, f, :] = np.sin(2 * np.pi * frequency * (i + 1) * np.arange(N) / fs + phase)\n",
    "            # Cosinusoid\n",
    "            ref_signal[i + 1, f, :] = np.cos(2 * np.pi * frequency * (i + 1) * np.arange(N) / fs + phase)\n",
    "       \n",
    "        f+=1\n",
    "\n",
    "    return ref_signal\n",
    "\n",
    "# Function 1: filter_bank_analysis\n",
    "# Input: signal, sampling frequency, number of sub-bands, filter bank design\n",
    "# Output: sub-band signals\n",
    "def filter_bank_analysis(in_signal, fs, n_subbands, filter_bank_design, low_freq, bandwith = 8):\n",
    "    # Number of channels\n",
    "    n_channels = in_signal.shape[0]\n",
    "    # Number of samples\n",
    "    n_samples = in_signal.shape[1]\n",
    "\n",
    "    gpass, gstop, Rp = 3, 40, 0.5\n",
    "    highcut_pass, highcut_stop = 80, 90\n",
    "\n",
    "    # Filter bank design\n",
    "    if filter_bank_design == 'M1': # N_subbands of the same length\n",
    "        # Sub-band signals\n",
    "        subband_signals = np.zeros((n_subbands, n_channels, n_samples))\n",
    "        # For each sub-band\n",
    "        for i in range(0, n_subbands):\n",
    "            \n",
    "            passband = low_freq + (i * 8)\n",
    "            highcut_pass = passband + bandwith\n",
    "            \n",
    "            stopband = passband - (fs / 50)\n",
    "            highcut_stop = highcut_pass + (fs / 50)\n",
    "            \n",
    "            Wp = [passband / (fs/2), highcut_pass / (fs/2)]\n",
    "            Ws = [stopband / (fs/2), highcut_stop / (fs/2)]\n",
    "            \n",
    "            N, Wn = signal.cheb1ord(Wp, Ws, gpass, gstop)\n",
    "            # Sub-band filter\n",
    "            b, a = signal.cheby1(N, Rp, Wn, 'bandpass')\n",
    "            # Filtered signal\n",
    "            subband_signals[i, :, :] = signal.filtfilt(b, a, in_signal)\n",
    "    \n",
    "    elif filter_bank_design == 'M2':\n",
    "        raise NotImplementedError()\n",
    "    \n",
    "    elif filter_bank_design == 'M3':\n",
    "        raise NotImplementedError()\n",
    "    \n",
    "    else:\n",
    "        raise NotImplementedError(\"Design not supported\")\n",
    "\n",
    "    return subband_signals\n",
    "\n",
    "# Function 2: cca\n",
    "# Input: signal 1, signal 2\n",
    "# Output: correlation vector\n",
    "def cca(signal1, signal2):\n",
    "    # Canonical correlation analysis\n",
    "    cca = CCA(1)\n",
    "    \n",
    "    # Fit the model with signal 1 and signal 2\n",
    "    cca.fit(signal1.T, signal2.T)\n",
    "\n",
    "    # Correlation vector\n",
    "    X_c, Y_c = cca.transform(signal1.T, signal2.T)\n",
    "\n",
    "    return X_c, Y_c\n",
    "\n",
    "\n",
    "# Function 3: feature_extraction\n",
    "# Input: sub-band signals, reference signals, weight vector\n",
    "# Output: feature vector\n",
    "def feature_extraction(subband_signals, ref_signals):\n",
    "    # Number of sub-band signals\n",
    "    n_subbands = subband_signals.shape[0]\n",
    "    # Feature vector\n",
    "    feature_vector = np.zeros(ref_signals.shape[1])\n",
    "    # Class predicted\n",
    "    fb_coefs = [pow(i, -1.25) + 0.25 for i in range(1, n_subbands + 1)]\n",
    "    result = 0\n",
    "    # For each sub-band signal\n",
    "    for sub in range(n_subbands):\n",
    "        for freq in range(ref_signals.shape[1]):\n",
    "            # Correlation vector\n",
    "            X_c, Y_c = cca(subband_signals[sub, :, :], ref_signals[:, freq, :])\n",
    "            # Pearson correlation coefficient\n",
    "            correl = np.corrcoef(X_c[:, 0], Y_c[:, 0])\n",
    "            feature_vector[freq] = correl[0, 1]\n",
    "\n",
    "        result += (fb_coefs[sub] * (feature_vector ** 2))\n",
    "        predicted = np.argmax(result)\n",
    "\n",
    "    return predicted\n",
    "\n",
    "\n",
    "# Function 4: fbcca\n",
    "# Input: signal, sampling frequency, number of sub-bands, filter bank design, weight vector, reference signals, lowest frequency\n",
    "# Output: target frequency\n",
    "def fbcca(in_signal, fs, n_subbands, filter_bank_design, ref_signals, lowest_freq):\n",
    "    # Sub-band signals\n",
    "    in_signal = in_signal.swapaxes(0, 1)\n",
    "    # Perform filter bank analysis\n",
    "    subband_signals = filter_bank_analysis(in_signal, fs, n_subbands, filter_bank_design, lowest_freq)\n",
    "    # Target frequency\n",
    "    predicted = feature_extraction(subband_signals, ref_signals)\n",
    "    return predicted\n",
    "\n",
    "\n",
    "# Function 3: feature_extraction\n",
    "# Input: sub-band signals, reference signals, weight vector\n",
    "# Output: feature vector\n",
    "def feature_extraction_ECCA(subband_signals, ref_signals, template_signal):\n",
    "    # Number of sub-band signals\n",
    "    n_subbands = subband_signals.shape[0]\n",
    "    # Feature vector\n",
    "    feature_vector = np.zeros(ref_signals.shape[1])\n",
    "    # Class predicted\n",
    "    fb_coefs = [pow(i, -1.25) + 0.25 for i in range(1, n_subbands + 1)]\n",
    "    result = 0\n",
    "    # For each sub-band signal\n",
    "    for sub in range(n_subbands):\n",
    "        for freq in range(ref_signals.shape[1]):\n",
    "\n",
    "            # 2 CCAs:\n",
    "\n",
    "            # 1: signal vs reference\n",
    "            # Correlation vector\n",
    "            X_c1, Y_c1 = cca(subband_signals[sub, :, :], ref_signals[:, freq, :])\n",
    "            # Pearson correlation coefficient\n",
    "\n",
    "            # 2: signal vs eeg template\n",
    "            # Correlation vector\n",
    "            X_c2, Y_c2 = cca(subband_signals[sub, :, :], template_signal[freq, :, :])\n",
    "            # Pearson correlation coefficient\n",
    "\n",
    "            rho1 = np.corrcoef(X_c1[:, 0], Y_c1[:, 0])[0, 1]\n",
    "            rho2 = np.corrcoef(X_c2[:, 0], Y_c1[:, 0])[0, 1]\n",
    "            rho3 = np.corrcoef(X_c1[:, 0], Y_c2[:, 0])[0, 1]\n",
    "            rho4 = np.corrcoef(X_c1[:, 0], Y_c2[:, 0])[0, 1]\n",
    "\n",
    "            correl = (np.sign(rho1)*(rho1**2) + \n",
    "                        np.sign(rho2)*(rho2**2) + \n",
    "                        np.sign(rho3)*(rho3**2) + \n",
    "                        np.sign(rho4)*(rho4**2))\n",
    "            \n",
    "\n",
    "            feature_vector[freq] = correl\n",
    "\n",
    "        result += (fb_coefs[sub] * (feature_vector ** 2))\n",
    "        predicted = np.argmax(result)\n",
    "\n",
    "    return predicted\n",
    "\n",
    "\n",
    "# Function 6: Combined CCA (ref signals + templates)\n",
    "# Input: signal, sampling frequency, number of sub-bands, filter bank design, reference signals, lowest frequency, upmost frequency\n",
    "# Output: target frequency\n",
    "def combined_cca(in_signal, template_signal, fs, n_subbands, filter_bank_design, ref_signals, lowest_freq):\n",
    "    # Sub-band signals\n",
    "    in_signal = in_signal.swapaxes(0, 1)\n",
    "    # Tempalte signal\n",
    "    template_signal = template_signal.swapaxes(0, 1)\n",
    "\n",
    "    # Perform filter bank analysis\n",
    "    subband_signals = filter_bank_analysis(in_signal, fs, n_subbands, filter_bank_design, lowest_freq)\n",
    "    # Target frequency\n",
    "    predicted = feature_extraction_ECCA(subband_signals, ref_signals, template_signal)\n",
    "    return predicted\n"
   ]
  },
  {
   "cell_type": "markdown",
   "metadata": {},
   "source": [
    "\n",
    "The frequency and phase values are used to generate the SSVEP stimuli. The stimuli are generated by the following equation:\n",
    "\n",
    "$$\n",
    "x(t) = sin(2\\pi f t + \\phi)\n",
    "$$\n",
    "\n",
    "where $f$ is the frequency and $\\phi$ is the phase value."
   ]
  },
  {
   "cell_type": "code",
   "execution_count": 4,
   "metadata": {},
   "outputs": [],
   "source": [
    "# SSVEP target frequencies\n",
    "frequencies = [10, 12]\n",
    "# Number of samples\n",
    "N = 1000\n",
    "# Sampling frequency\n",
    "fs = 250\n",
    "# Number of harmonics\n",
    "n_harmonics = 3\n",
    "# Number of sub-bands\n",
    "n_subbands = 8\n",
    "# Filter bank design\n",
    "filter_bank_design = 'M1'\n",
    "# Reference signals\n",
    "ref_signals = generate_ref_signal('data/raw/Freq_Phase.mat', frequencies, N, n_harmonics, fs)"
   ]
  },
  {
   "cell_type": "code",
   "execution_count": 5,
   "metadata": {},
   "outputs": [
    {
     "name": "stdout",
     "output_type": "stream",
     "text": [
      "(6, 2, 1000)\n"
     ]
    },
    {
     "data": {
      "text/plain": [
       "(0.0, 15.0)"
      ]
     },
     "execution_count": 5,
     "metadata": {},
     "output_type": "execute_result"
    },
    {
     "data": {
      "image/png": "[encoded data removed]",
      "text/plain": [
       "<Figure size 1000x500 with 1 Axes>"
      ]
     },
     "metadata": {},
     "output_type": "display_data"
    }
   ],
   "source": [
    "fft, freqs = get_FFT(ref_signals[0, 0]) \n",
    "print(ref_signals.shape)\n",
    "# plot\n",
    "plt.figure(figsize=(10, 5))\n",
    "plt.plot(freqs, fft)\n",
    "plt.title('FFT of reference signal')\n",
    "plt.xlabel('Frequency (Hz)')\n",
    "plt.ylabel('Amplitude')\n",
    "\n",
    "plt.xlim(0, 15)\n"
   ]
  },
  {
   "cell_type": "code",
   "execution_count": 6,
   "metadata": {},
   "outputs": [],
   "source": [
    "def get_acc_of_subject(subject, path, label, w_size = 4):\n",
    "    \n",
    "    # get all .npy files of the subject\n",
    "    files = os.listdir(path)\n",
    "\n",
    "    predictions = []\n",
    "\n",
    "    for file in files:\n",
    "        if re.match(f\"^{subject}_.\\.npy$\", file) and file.endswith(\".npy\"):\n",
    "            in_signal = np.load(path + file)[:int(w_size * 250), :]\n",
    "            target_frequency = fbcca(in_signal, fs, n_subbands, filter_bank_design, ref_signals[:, :, :int(w_size * 250)], 8)\n",
    "            predictions.append(target_frequency)\n",
    "        \n",
    "    targets = np.ones(len(predictions)) * label\n",
    "    # calculate the accuracy\n",
    "    acc = accuracy_score(targets, predictions)\n",
    "\n",
    "    return acc\n"
   ]
  },
  {
   "cell_type": "code",
   "execution_count": 7,
   "metadata": {},
   "outputs": [
    {
     "name": "stdout",
     "output_type": "stream",
     "text": [
      "Accuracy for Subject 1: 1.0\n",
      "Accuracy for Subject 2: 1.0\n",
      "Accuracy for Subject 3: 1.0\n",
      "Accuracy for Subject 4: 1.0\n",
      "Accuracy for Subject 5: 1.0\n",
      "Accuracy for Subject 6: 1.0\n",
      "Accuracy for Subject 7: 0.8571428571428571\n",
      "Accuracy for Subject 8: 1.0\n",
      "Accuracy for Subject 9: 1.0\n",
      "Accuracy for Subject 10: 1.0\n",
      "Accuracy for Subject 11: 1.0\n",
      "Accuracy for Subject 12: 1.0\n",
      "Accuracy for Subject 13: 0.8571428571428571\n",
      "Accuracy for Subject 14: 1.0\n",
      "Accuracy for Subject 15: 1.0\n",
      "Accuracy for Subject 16: 1.0\n",
      "Accuracy for Subject 17: 1.0\n",
      "Accuracy for Subject 18: 1.0\n",
      "Accuracy for Subject 19: 1.0\n",
      "Accuracy for Subject 20: 1.0\n",
      "Accuracy for Subject 21: 0.8571428571428571\n",
      "Accuracy for Subject 22: 1.0\n",
      "Accuracy for Subject 23: 0.8571428571428571\n",
      "Accuracy for Subject 24: 1.0\n",
      "Accuracy for Subject 25: 0.8571428571428571\n",
      "Accuracy for Subject 26: 0.8571428571428571\n",
      "Accuracy for Subject 27: 1.0\n",
      "Accuracy for Subject 28: 1.0\n",
      "Accuracy for Subject 29: 0.8571428571428571\n",
      "Accuracy for Subject 30: 1.0\n",
      "Accuracy for Subject 31: 1.0\n",
      "Accuracy for Subject 32: 1.0\n",
      "Accuracy for Subject 33: 1.0\n",
      "Accuracy for Subject 34: 1.0\n",
      "Accuracy for Subject 35: 1.0\n"
     ]
    }
   ],
   "source": [
    "path = \"data/staged/1/\"\n",
    "window_size = 4\n",
    "label = 1\n",
    "\n",
    "accs = []\n",
    "\n",
    "for i in range(1, 36):\n",
    "    acc = get_acc_of_subject(f\"S{i}\", path, label, window_size)\n",
    "    accs.append(acc)\n",
    "    print(f\"Accuracy for Subject {i}: {acc}\")"
   ]
  },
  {
   "cell_type": "code",
   "execution_count": 12,
   "metadata": {},
   "outputs": [
    {
     "name": "stdout",
     "output_type": "stream",
     "text": [
      "Accuracy for Subject 1: 1.0\n",
      "Accuracy for Subject 2: 1.0\n",
      "Accuracy for Subject 3: 1.0\n",
      "Accuracy for Subject 4: 0.8571428571428571\n",
      "Accuracy for Subject 5: 1.0\n",
      "Accuracy for Subject 6: 1.0\n",
      "Accuracy for Subject 7: 1.0\n",
      "Accuracy for Subject 8: 1.0\n",
      "Accuracy for Subject 9: 0.8571428571428571\n",
      "Accuracy for Subject 10: 1.0\n",
      "Accuracy for Subject 11: 0.7142857142857143\n",
      "Accuracy for Subject 12: 0.7142857142857143\n",
      "Accuracy for Subject 13: 0.8571428571428571\n",
      "Accuracy for Subject 14: 0.8571428571428571\n",
      "Accuracy for Subject 15: 1.0\n",
      "Accuracy for Subject 16: 0.8571428571428571\n",
      "Accuracy for Subject 17: 1.0\n",
      "Accuracy for Subject 18: 0.8571428571428571\n",
      "Accuracy for Subject 19: 0.8571428571428571\n",
      "Accuracy for Subject 20: 1.0\n",
      "Accuracy for Subject 21: 0.8571428571428571\n",
      "Accuracy for Subject 22: 1.0\n",
      "Accuracy for Subject 23: 0.8571428571428571\n",
      "Accuracy for Subject 24: 0.7142857142857143\n",
      "Accuracy for Subject 25: 1.0\n",
      "Accuracy for Subject 26: 0.8571428571428571\n",
      "Accuracy for Subject 27: 1.0\n",
      "Accuracy for Subject 28: 1.0\n",
      "Accuracy for Subject 29: 0.7142857142857143\n",
      "Accuracy for Subject 30: 1.0\n",
      "Accuracy for Subject 31: 0.8571428571428571\n",
      "Accuracy for Subject 32: 1.0\n",
      "Accuracy for Subject 33: 0.5714285714285714\n",
      "Accuracy for Subject 34: 1.0\n",
      "Accuracy for Subject 35: 1.0\n",
      "Accuracy for window size 4: 0.9102040816326531\n"
     ]
    }
   ],
   "source": [
    "window_sizes = [1, 1.5, 2, 2.5, 3, 3.5, 4]\n",
    "\n",
    "\n",
    "path = \"data/staged/0/\"\n",
    "\n",
    "label = 0\n",
    "\n",
    "for window_size in window_sizes:\n",
    "    accs = []\n",
    "\n",
    "    for i in range(1, 36):\n",
    "\n",
    "        acc = get_acc_of_subject(f\"S{i}\", path, label, 4)\n",
    "        accs.append(acc)\n",
    "\n",
    "    print(f\"Accuracy for window size {4}: {np.mean(accs)}\")"
   ]
  },
  {
   "cell_type": "code",
   "execution_count": 9,
   "metadata": {},
   "outputs": [
    {
     "name": "stdout",
     "output_type": "stream",
     "text": [
      "an improvement of 0.014761904761111277\n"
     ]
    },
    {
     "data": {
      "image/png": "[encoded data removed]",
      "text/plain": [
       "<Figure size 640x480 with 1 Axes>"
      ]
     },
     "metadata": {},
     "output_type": "display_data"
    }
   ],
   "source": [
    "\"\"\"\n",
    "Accuracy for window size 1: 0.7102040816326531, 0.7304081632605301 (with CBAM)\n",
    "Accuracy for window size 1.5: 0.7591836734693878, 0.7561224489795918 (with CBAM)\n",
    "Accuracy for window size 2: 0.8244897959183675,  0.834693877551021 (with CBAM)\n",
    "Accuracy for window size 2.5: 0.8122448979591838, 0.82448979591838 (with CBAM)\n",
    "Accuracy for window size 3: 0.8448979591836734, 0.8418367346938775 (with CBAM)\n",
    "Accuracy for window size 3.5: 0.8489795918367347, 0.869795918367347 (with CBAM)\n",
    "Accuracy for window size 4: 0.8897959183673471, 0.917959183673471 (with CBAM)\n",
    "\"\"\"\n",
    "\n",
    "# plot the results of the comment above\n",
    "accs = [0.7102040816326531,  0.8244897959183675, 0.8122448979591838, 0.8448979591836734, 0.8489795918367347, 0.8897959183673471]\n",
    "accs_cbam = [0.7304081632605301, 0.834693877551021, 0.82448979591838, 0.8418367346938775, 0.869795918367347, 0.917959183673471]\n",
    "\n",
    "# window sizes\n",
    "window_sizes = [0, 0.2, 0.4, 0.6, 0.8, 1]\n",
    "\n",
    "# use barplots\n",
    "plt.plot(window_sizes, accs_cbam, label=\"With CBAM\")\n",
    "plt.plot(window_sizes, accs, label=\"Without CBAM\")\n",
    "plt.legend()\n",
    "plt.xlabel(\"Window size (s)\")\n",
    "plt.ylabel(\"Accuracy\")\n",
    "plt.title(\"Accuracy for different window sizes\")\n",
    "\n",
    "print(f\"an improvement of {np.mean(accs_cbam) - np.mean(accs)}\")"
   ]
  },
  {
   "cell_type": "code",
   "execution_count": 10,
   "metadata": {},
   "outputs": [
    {
     "name": "stdout",
     "output_type": "stream",
     "text": [
      "(1024, 3)\n"
     ]
    },
    {
     "data": {
      "text/plain": [
       "(5.0, 20.0)"
      ]
     },
     "execution_count": 10,
     "metadata": {},
     "output_type": "execute_result"
    },
    {
     "data": {
      "image/png": "[encoded data removed]",
      "text/plain": [
       "<Figure size 640x480 with 1 Axes>"
      ]
     },
     "metadata": {},
     "output_type": "display_data"
    }
   ],
   "source": [
    "data = r\"data/staged/1/S10_0.npy\"\n",
    "\n",
    "sample = (np.load(data))\n",
    "print(sample.shape)\n",
    "x = sample[:250, 1]\n",
    "# plot the power spectrum\n",
    "# transform to frequency domain, using the FFT algorithm (range of 0 - 20 Hz)\n",
    "fft = np.fft.fft(x)\n",
    "# calculate the frequencies\n",
    "freqs = np.fft.fftfreq(len(x)) * 250\n",
    "# plot the power spectrum\n",
    "plt.stem(freqs, abs(fft))\n",
    "# Red stem on 8hz\n",
    "plt.stem(12, abs(fft)[12*4], 'r')\n",
    "plt.xlabel('Frequency (Hz)')\n",
    "plt.ylabel('Power')\n",
    "plt.xlim(5, 20)"
   ]
  },
  {
   "cell_type": "code",
   "execution_count": 11,
   "metadata": {},
   "outputs": [
    {
     "ename": "FileNotFoundError",
     "evalue": "[Errno 2] No such file or directory: 'expr/results/vanilla/ref_05_b.npy'",
     "output_type": "error",
     "traceback": [
      "\u001b[1;31m---------------------------------------------------------------------------\u001b[0m",
      "\u001b[1;31mFileNotFoundError\u001b[0m                         Traceback (most recent call last)",
      "\u001b[1;32m~\\AppData\\Local\\Temp\\ipykernel_72552\\3597591938.py\u001b[0m in \u001b[0;36m<module>\u001b[1;34m\u001b[0m\n\u001b[0;32m      1\u001b[0m \u001b[0mpath\u001b[0m \u001b[1;33m=\u001b[0m \u001b[1;34m\"expr/results/vanilla/ref_05_b.npy\"\u001b[0m\u001b[1;33m\u001b[0m\u001b[1;33m\u001b[0m\u001b[0m\n\u001b[0;32m      2\u001b[0m \u001b[1;33m\u001b[0m\u001b[0m\n\u001b[1;32m----> 3\u001b[1;33m \u001b[0mdata\u001b[0m \u001b[1;33m=\u001b[0m \u001b[0mnp\u001b[0m\u001b[1;33m.\u001b[0m\u001b[0mload\u001b[0m\u001b[1;33m(\u001b[0m\u001b[0mpath\u001b[0m\u001b[1;33m)\u001b[0m\u001b[1;33m\u001b[0m\u001b[1;33m\u001b[0m\u001b[0m\n\u001b[0m\u001b[0;32m      4\u001b[0m \u001b[1;31m# data = data[:, 1, :]\u001b[0m\u001b[1;33m\u001b[0m\u001b[1;33m\u001b[0m\u001b[1;33m\u001b[0m\u001b[0m\n\u001b[0;32m      5\u001b[0m \u001b[1;33m\u001b[0m\u001b[0m\n",
      "\u001b[1;32mc:\\Users\\olapu\\anaconda3\\envs\\stargan\\lib\\site-packages\\numpy\\lib\\npyio.py\u001b[0m in \u001b[0;36mload\u001b[1;34m(file, mmap_mode, allow_pickle, fix_imports, encoding)\u001b[0m\n\u001b[0;32m    415\u001b[0m             \u001b[0mown_fid\u001b[0m \u001b[1;33m=\u001b[0m \u001b[1;32mFalse\u001b[0m\u001b[1;33m\u001b[0m\u001b[1;33m\u001b[0m\u001b[0m\n\u001b[0;32m    416\u001b[0m         \u001b[1;32melse\u001b[0m\u001b[1;33m:\u001b[0m\u001b[1;33m\u001b[0m\u001b[1;33m\u001b[0m\u001b[0m\n\u001b[1;32m--> 417\u001b[1;33m             \u001b[0mfid\u001b[0m \u001b[1;33m=\u001b[0m \u001b[0mstack\u001b[0m\u001b[1;33m.\u001b[0m\u001b[0menter_context\u001b[0m\u001b[1;33m(\u001b[0m\u001b[0mopen\u001b[0m\u001b[1;33m(\u001b[0m\u001b[0mos_fspath\u001b[0m\u001b[1;33m(\u001b[0m\u001b[0mfile\u001b[0m\u001b[1;33m)\u001b[0m\u001b[1;33m,\u001b[0m \u001b[1;34m\"rb\"\u001b[0m\u001b[1;33m)\u001b[0m\u001b[1;33m)\u001b[0m\u001b[1;33m\u001b[0m\u001b[1;33m\u001b[0m\u001b[0m\n\u001b[0m\u001b[0;32m    418\u001b[0m             \u001b[0mown_fid\u001b[0m \u001b[1;33m=\u001b[0m \u001b[1;32mTrue\u001b[0m\u001b[1;33m\u001b[0m\u001b[1;33m\u001b[0m\u001b[0m\n\u001b[0;32m    419\u001b[0m \u001b[1;33m\u001b[0m\u001b[0m\n",
      "\u001b[1;31mFileNotFoundError\u001b[0m: [Errno 2] No such file or directory: 'expr/results/vanilla/ref_05_b.npy'"
     ]
    }
   ],
   "source": [
    "path = \"expr/results/vanilla/ref_05_b.npy\"\n",
    "\n",
    "data = np.load(path)\n",
    "# data = data[:, 1, :]\n",
    "\n",
    "ss = int(np.ceil(np.sqrt(data.shape[0])))\n",
    "\n",
    "fig, axs = plt.subplots(ss, ss, figsize=(10, 10))\n",
    "\n",
    "for i in range(data.shape[0]):\n",
    "    ex = (i) // ss\n",
    "    ne = (i) % ss\n",
    "    for j in range(data.shape[1]):\n",
    "        x = data[i, j, :]\n",
    "        # plot the fft  of the signal\n",
    "        fft, freqs = get_FFT(x)\n",
    "        axs[ex, ne].plot(freqs, fft)\n",
    "\n",
    "    axs[ex, ne].set_title(f\"FFT of signal {str(i)}\")\n",
    "    axs[ex, ne].set_xlabel(\"Frequency\")\n",
    "    axs[ex, ne].set_ylabel(\"Amplitude\")\n",
    "    axs[ex, ne].set_xlim(0, 22)\n",
    "\n",
    "plt.xlabel(\"Frequency\")\n",
    "plt.ylabel(\"Amplitude\")\n",
    "plt.xlim(0, 22)\n",
    "\n",
    "plt.show()"
   ]
  },
  {
   "cell_type": "code",
   "execution_count": null,
   "metadata": {},
   "outputs": [
    {
     "ename": "TypeError",
     "evalue": "'int' object is not iterable",
     "output_type": "error",
     "traceback": [
      "\u001b[1;31m---------------------------------------------------------------------------\u001b[0m",
      "\u001b[1;31mTypeError\u001b[0m                                 Traceback (most recent call last)",
      "\u001b[1;32m~\\AppData\\Local\\Temp\\ipykernel_32344\\3522442302.py\u001b[0m in \u001b[0;36m<module>\u001b[1;34m\u001b[0m\n\u001b[0;32m      5\u001b[0m \u001b[1;33m\u001b[0m\u001b[0m\n\u001b[0;32m      6\u001b[0m \u001b[1;33m\u001b[0m\u001b[0m\n\u001b[1;32m----> 7\u001b[1;33m \u001b[1;32mfor\u001b[0m \u001b[0midx\u001b[0m \u001b[1;32min\u001b[0m  \u001b[0mdata\u001b[0m\u001b[1;33m.\u001b[0m\u001b[0mshape\u001b[0m\u001b[1;33m[\u001b[0m\u001b[1;36m0\u001b[0m\u001b[1;33m]\u001b[0m\u001b[1;33m:\u001b[0m\u001b[1;33m\u001b[0m\u001b[1;33m\u001b[0m\u001b[0m\n\u001b[0m\u001b[0;32m      8\u001b[0m     \u001b[0mx\u001b[0m \u001b[1;33m=\u001b[0m \u001b[0mdata\u001b[0m\u001b[1;33m[\u001b[0m\u001b[0mi\u001b[0m\u001b[1;33m,\u001b[0m \u001b[1;33m:\u001b[0m\u001b[1;33m]\u001b[0m\u001b[1;33m\u001b[0m\u001b[1;33m\u001b[0m\u001b[0m\n\u001b[0;32m      9\u001b[0m     \u001b[1;31m# plot the fft  of the signal\u001b[0m\u001b[1;33m\u001b[0m\u001b[1;33m\u001b[0m\u001b[1;33m\u001b[0m\u001b[0m\n",
      "\u001b[1;31mTypeError\u001b[0m: 'int' object is not iterable"
     ]
    }
   ],
   "source": [
    "path = \"expr/results/vanilla/ref_00_b.npy\"\n",
    "\n",
    "data = np.load(path)\n",
    "data = data[:, 1, :]\n",
    "\n",
    "\n",
    "for idx in  data.shape[0]:\n",
    "    x = data[i, :]\n",
    "    # plot the fft  of the signal"
   ]
  }
 ],
 "metadata": {
  "kernelspec": {
   "display_name": "thes-stargan",
   "language": "python",
   "name": "python3"
  },
  "language_info": {
   "codemirror_mode": {
    "name": "ipython",
    "version": 3
   },
   "file_extension": ".py",
   "mimetype": "text/x-python",
   "name": "python",
   "nbconvert_exporter": "python",
   "pygments_lexer": "ipython3",
   "version": "3.7.12"
  },
  "orig_nbformat": 4
 },
 "nbformat": 4,
 "nbformat_minor": 2
}
