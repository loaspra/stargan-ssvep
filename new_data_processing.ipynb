{
 "cells": [
  {
   "cell_type": "markdown",
   "metadata": {},
   "source": [
    "We provide the following data to support experimentation with signal representation and classification techniques. Please acknowledge us in any communications of your work involving our data.\n",
    "\n",
    "We have worked primarily with EEG data recorded by Zak Keirn at Purdue University for his work on his Masters of Science thesis in the Electrical Engineering Department at Purdue. We make that data available here as a 23 MB, binary Matlab mat-file. After downloading this file, load it into matlab using load eegdata. You should then have these two variables defined:\n",
    "\n",
    ">> whos\n",
    "\n",
    "Name     |   Size    |    Bytes | Class\n",
    "---------|-----------|----------|-----------\n",
    "data     |   1x325   | 22917020 | cell array\n",
    "readme   |   1x1379  |     2758 | char array\n",
    "\n",
    "Grand total is 5699264 elements using 22919778 bytes\n",
    "The variable readme is a string containing the following explanation:\n",
    "\n",
    "data is a cell array of cell arrays. Each individual cell array is made up of a subject string, task string, trial string, and data array. Each data array is 7 rows by 2500 columns. The 7 rows correspond to channels c3, c4, p3, p4, o1, o2, and EOG. Across columns are samples taken at 250 Hz for 10 seconds, for 2500 samples. For example, the first cell array looks like 'subject 1' 'baseline' 'trial 1' [7x2500 single]. Recordings were made with reference to electrically linked mastoids A1 and A2. EOG was recorded between the forehead above the left browline and another on the left cheekbone. Recording was performed with a bank of Grass 7P511 amplifiers whose bandpass analog filters were set at 0.1 to 100 Hz. data 1 and 2 were employees of a university and were left-handed age 48 and right-handed age 39, respectively. data 3 through 7 were right-handed college students between the age of 20 and 30 years old. All were mail data with the exception of Subject 5. data performed five trials of each task in one day. They returned to do a second five trials on another day. data 2 and 7 completed only one 5-trial session. Subject 5 completed three sessions. For more information see Alternative Modes of Communication Between Man and Machine, Zachary A. Keirn, Masters Thesis in Electrical Engineering, Purdue University, December, 1988.\n",
    "\n",
    "Here is a file named makesubset.m that will extract five 7x2500 matrices for Subject 1, Trial 1 of each of the five tasks and plots them. This can be run only after loading the eegdata.mat file.\n",
    "\n",
    "If you don't have access to Matlab, or want more data, here is a 12.8 MB file named alleegdata.ascii.gz that contains data for all data. Values are stored with a precision of three decimal places to save space."
   ]
  },
  {
   "cell_type": "code",
   "execution_count": 2,
   "metadata": {},
   "outputs": [
    {
     "name": "stdout",
     "output_type": "stream",
     "text": [
      "Collecting pandas\n",
      "  Downloading pandas-1.1.5-cp36-cp36m-manylinux1_x86_64.whl (9.5 MB)\n",
      "\u001b[K     |████████████████████████████████| 9.5 MB 3.6 MB/s eta 0:00:01     |███▉                            | 1.1 MB 3.6 MB/s eta 0:00:03\n",
      "\u001b[?25hRequirement already satisfied: numpy in /home/loaspr/anaconda3/envs/stargan/lib/python3.6/site-packages (1.19.5)\n",
      "Requirement already satisfied: python-dateutil>=2.7.3 in /home/loaspr/anaconda3/envs/stargan/lib/python3.6/site-packages (from pandas) (2.9.0.post0)\n",
      "Collecting pytz>=2017.2\n",
      "  Downloading pytz-2024.1-py2.py3-none-any.whl (505 kB)\n",
      "\u001b[K     |████████████████████████████████| 505 kB 25.2 MB/s eta 0:00:01\n",
      "\u001b[?25hRequirement already satisfied: six>=1.5 in /home/loaspr/anaconda3/envs/stargan/lib/python3.6/site-packages (from python-dateutil>=2.7.3->pandas) (1.16.0)\n",
      "Installing collected packages: pytz, pandas\n",
      "Successfully installed pandas-1.1.5 pytz-2024.1\n",
      "Note: you may need to restart the kernel to use updated packages.\n"
     ]
    }
   ],
   "source": [
    "%pip install pandas numpy"
   ]
  },
  {
   "cell_type": "markdown",
   "metadata": {},
   "source": [
    "## Importing libraries"
   ]
  },
  {
   "cell_type": "code",
   "execution_count": 2,
   "metadata": {},
   "outputs": [],
   "source": [
    "import numpy as np\n",
    "import pandas as pd\n",
    "from scipy import signal\n",
    "\n",
    "import shutil\n",
    "\n",
    "from os import listdir, makedirs\n",
    "\n",
    "import re\n",
    "import py7zr\n",
    "import gzip\n",
    "\n",
    "# import the neccesary libraries to read mat files\n",
    "import scipy.io as sio\n",
    "from scipy import signal\n",
    "from scipy.signal import butter, lfilter\n",
    "\n",
    "\n",
    "import numpy as np\n",
    "import pandas as pd\n",
    "import matplotlib.pyplot as plt\n",
    "import seaborn as sns\n",
    "import shutil\n",
    "import os\n",
    "import glob\n",
    "import re\n",
    "import pickle\n",
    "\n",
    "import time\n",
    "import datetime\n",
    "import math\n",
    "import random\n",
    "import warnings\n",
    "\n",
    "from os import listdir, makedirs\n",
    "\n",
    "import importlib\n",
    "\n",
    "from core.utils2 import fbcca, generate_ref_signal\n",
    "warnings.filterwarnings('ignore')\n"
   ]
  },
  {
   "cell_type": "markdown",
   "metadata": {},
   "source": [
    "## Download the data\n",
    "\n",
    "### Benchmar dataset"
   ]
  },
  {
   "cell_type": "code",
   "execution_count": 2,
   "metadata": {},
   "outputs": [],
   "source": [
    "# Downlaod the archives of the following URL dir:\n",
    "# https://bci.med.tsinghua.edu.cn/upload/yijun/SXX.mat.7z\n",
    "# Where XX is from 1 to 35\n",
    "\n",
    "makedirs('data', exist_ok=True)\n",
    "makedirs('data/benchmark', exist_ok=True)\n",
    "makedirs('data/benchmark/7z', exist_ok=True)\n",
    "makedirs('data/benchmark/extracted', exist_ok=True)\n",
    "\n",
    "\n",
    "# DOwnload the archives\n",
    "s = 1 \n",
    "e = 35\n",
    "\n",
    "# benchmark dataset\n",
    "# for i in range(s, e + 1):\n",
    "#     !wget https://bci.med.tsinghua.edu.cn/upload/yijun/S{i}.mat.7z -P data/7z/\n",
    "\n",
    "# Extract the archives in the following directory\n",
    "archive_dir = 'data/benchmark/7z/'\n",
    "# The extracted files will be in the following directory\n",
    "extracted_dir = 'data/benchmark/extracted/'"
   ]
  },
  {
   "cell_type": "markdown",
   "metadata": {},
   "source": [
    "### Extract the data"
   ]
  },
  {
   "cell_type": "code",
   "execution_count": 5,
   "metadata": {},
   "outputs": [
    {
     "name": "stdout",
     "output_type": "stream",
     "text": [
      "S6\n",
      "S1\n",
      "S3\n",
      "S31\n",
      "S21\n",
      "S13\n",
      "S7\n",
      "S19\n",
      "S5\n",
      "S16\n",
      "S12\n",
      "S22\n",
      "S24\n",
      "S17\n",
      "S4\n",
      "S34\n",
      "S29\n",
      "S14\n",
      "S27\n",
      "S26\n",
      "S33\n",
      "S10\n",
      "S23\n",
      "S35\n",
      "S2\n",
      "S11\n",
      "S8\n",
      "S32\n",
      "S25\n",
      "S15\n",
      "S30\n",
      "S20\n",
      "S18\n",
      "S28\n",
      "S9\n"
     ]
    }
   ],
   "source": [
    "\n",
    "# Create the extracted directory\n",
    "makedirs(extracted_dir, exist_ok=True)\n",
    "\n",
    "# List the archives\n",
    "archives = listdir(archive_dir)\n",
    "\n",
    "# Extract the archives\n",
    "for archive in archives:\n",
    "    print(archive.split('.')[0])\n",
    "    with py7zr.SevenZipFile(archive_dir + archive, mode='r') as z:\n",
    "        z.extractall(path=extracted_dir)\n",
    "\n",
    "# List the extracted files\n",
    "extracted_files = listdir(extracted_dir)"
   ]
  },
  {
   "cell_type": "code",
   "execution_count": 8,
   "metadata": {},
   "outputs": [
    {
     "name": "stdout",
     "output_type": "stream",
     "text": [
      "--2024-09-08 03:22:22--  https://bci.med.tsinghua.edu.cn/upload/yijun/Freq_Phase.mat\n",
      "Resolving bci.med.tsinghua.edu.cn (bci.med.tsinghua.edu.cn)... 101.6.15.70, 2402:f000:1:402:101:6:15:70\n",
      "Connecting to bci.med.tsinghua.edu.cn (bci.med.tsinghua.edu.cn)|101.6.15.70|:443... connected.\n",
      "HTTP request sent, awaiting response... 200 OK\n",
      "Length: 366 [application/octet-stream]\n",
      "Saving to: ‘data/raw/Freq_Phase.mat’\n",
      "\n",
      "Freq_Phase.mat      100%[===================>]     366  --.-KB/s    in 0s      \n",
      "\n",
      "2024-09-08 03:22:24 (431 MB/s) - ‘data/raw/Freq_Phase.mat’ saved [366/366]\n",
      "\n"
     ]
    }
   ],
   "source": [
    "# move the data from data/benchmark/extracted/ to data/raw/\n",
    "makedirs('data/raw', exist_ok=True)\n",
    "\n",
    "for file in extracted_files:\n",
    "    shutil.move(extracted_dir + file, 'data/raw/' + file)\n",
    "\n",
    "# Now, download the Frq.mat file\n",
    "# https://bci.med.tsinghua.edu.cn/upload/yijun/Freq_Phase.mat\n",
    "# and move it to data/raw/\n",
    "!wget https://bci.med.tsinghua.edu.cn/upload/yijun/Freq_Phase.mat -P data/raw/"
   ]
  },
  {
   "cell_type": "markdown",
   "metadata": {},
   "source": [
    "np.pad(x, ((0, 0), (0, (2**int(np.ceil(np.log2(x.shape[-1]))) - x.shape[-1]))), 'constant')\n",
    "\n",
    "# Colorado dataset\n",
    "\n",
    "Download and extract the data"
   ]
  },
  {
   "cell_type": "code",
   "execution_count": 17,
   "metadata": {},
   "outputs": [
    {
     "name": "stdout",
     "output_type": "stream",
     "text": [
      "--2024-09-07 10:04:43--  https://www.cs.colostate.edu/eeg/data/alleegdata.ascii.gz\n",
      "Resolving www.cs.colostate.edu (www.cs.colostate.edu)... 129.82.45.48\n",
      "Connecting to www.cs.colostate.edu (www.cs.colostate.edu)|129.82.45.48|:443... connected.\n",
      "HTTP request sent, awaiting response... 200 OK\n",
      "Length: 12804390 (12M) [application/x-gzip]\n",
      "Saving to: ‘data/colorado/7z/alleegdata.ascii.gz’\n",
      "\n",
      "alleegdata.ascii.gz 100%[===================>]  12.21M  4.41MB/s    in 2.8s    \n",
      "\n",
      "2024-09-07 10:04:46 (4.41 MB/s) - ‘data/colorado/7z/alleegdata.ascii.gz’ saved [12804390/12804390]\n",
      "\n"
     ]
    }
   ],
   "source": [
    "# make folders if not exist\n",
    "makedirs('data/colorado/7z/', exist_ok=True)\n",
    "makedirs('data/colorado/extracted/', exist_ok=True)\n",
    "\n",
    "!wget https://www.cs.colostate.edu/eeg/data/alleegdata.ascii.gz -P data/colorado/7z/\n",
    "\n",
    "# Extract the Colorado dataset\n",
    "with gzip.open('data/colorado/7z/alleegdata.ascii.gz', 'rb') as f_in:\n",
    "    !touch data/colorado/extracted/alleegdata.ascii # this only works in linux\n",
    "    with open('data/colorado/raw/alleegdata.ascii', 'wb') as f_out:\n",
    "        shutil.copyfileobj(f_in, f_out)"
   ]
  },
  {
   "cell_type": "markdown",
   "metadata": {},
   "source": [
    "## Create the partitions of the data\n",
    "\n",
    "We only need the baselines, not the tasks\n",
    "\n",
    "> Colorado dataset"
   ]
  },
  {
   "cell_type": "code",
   "execution_count": null,
   "metadata": {},
   "outputs": [],
   "source": [
    "\n",
    "# The file (alleegdata.ascii) has the following contents:\n",
    "# Line 1: \"subject 1, baseline, trial 1\"\n",
    "# Line 2: 2500 samples of channel c3\n",
    "# Line 3: 2500 samples of channel c4\n",
    "# ...\n",
    "# Line 8: 2500 samples of channel EOG\n",
    "# Line 9: \"subject 1, baseline, trial 2\"\n",
    "# ...\n",
    "# Line 56: \"subject 1, baseline, trial 5\"\n",
    "# Line 57: \"subject 1, task 1, trial 1\"\n",
    "# ...\n",
    "# And so on\n",
    "\n",
    "# separate each trial \n",
    "with open('data/colorado/raw/alleegdata.ascii') as f:\n",
    "    lines = f.read().split(\"\\n\\n\")\n",
    "    # remove the first line\n",
    "    lines.pop(0)\n",
    "\n",
    "print(lines[0])\n",
    "\n",
    "# we only want resting EEG, so we use the baseline\n",
    "data = [line for line in lines if \"baseline\" in line]\n",
    "\n",
    "subjects_data = []\n",
    "subjects = []\n",
    "\n",
    "past = \"\"\n",
    "\n",
    "# clear df\n",
    "df = None\n",
    "\n",
    "for trial in data:\n",
    "\n",
    "    rows = trial.split(\"\\n\")\n",
    "    print(f\"Rows: {rows}\")\n",
    "    head = rows[0].strip().split(\",\")\n",
    "    rows.pop(0)\n",
    "    \n",
    "    for i in range(0, len(rows)):\n",
    "        rows[i] = np.array(rows[i].strip().split(\" \"), dtype=float)\n",
    "        \n",
    "    rows.append(np.repeat(head[2], len(rows[0])))\n",
    "\n",
    "    if len(rows) == 8:\n",
    "        df_ = pd.DataFrame(rows).transpose()\n",
    "        if past == head[0] and df is not None:\n",
    "            # concat the dataframes\n",
    "            df = pd.concat([df, df_], axis=0)\n",
    "        else:\n",
    "            # Rename the columns\n",
    "            subjects.append(head[0])\n",
    "            if df is not None:\n",
    "                df.columns = ['c3', 'c4', 'p3', 'p4', 'o1', 'o2', 'eog', 'trial']\n",
    "                # Add oz, which is the average of o1 and o2 channels\n",
    "                df['oz'] = (df['o1'] + df['o2']) / 2\n",
    "                subjects_data.append(df)\n",
    "            # append the dataframe\n",
    "            df = df_\n",
    "\n",
    "        # keep track of the subject\n",
    "        past = head[0]\n",
    "\n",
    "# add the last subject\n",
    "subjects.append(past[0])"
   ]
  },
  {
   "cell_type": "code",
   "execution_count": 32,
   "metadata": {},
   "outputs": [],
   "source": [
    "makedirs('data/colorado/processed/', exist_ok=True)"
   ]
  },
  {
   "cell_type": "code",
   "execution_count": 1,
   "metadata": {},
   "outputs": [
    {
     "ename": "NameError",
     "evalue": "name 'subjects_data' is not defined",
     "output_type": "error",
     "traceback": [
      "\u001b[0;31m---------------------------------------------------------------------------\u001b[0m",
      "\u001b[0;31mNameError\u001b[0m                                 Traceback (most recent call last)",
      "\u001b[0;32m<ipython-input-1-19c53ee2ce2c>\u001b[0m in \u001b[0;36m<module>\u001b[0;34m\u001b[0m\n\u001b[0;32m----> 1\u001b[0;31m \u001b[0msubjects_data\u001b[0m\u001b[0;34m[\u001b[0m\u001b[0;36m5\u001b[0m\u001b[0;34m]\u001b[0m\u001b[0;34m\u001b[0m\u001b[0;34m\u001b[0m\u001b[0m\n\u001b[0m",
      "\u001b[0;31mNameError\u001b[0m: name 'subjects_data' is not defined"
     ]
    }
   ],
   "source": [
    "subjects_data[4]"
   ]
  },
  {
   "cell_type": "code",
   "execution_count": 26,
   "metadata": {},
   "outputs": [],
   "source": [
    "# Save the dataframes\n",
    "for subject in subjects_data:\n",
    "    # save each task separately\n",
    "    trials = subject['trial'].unique()\n",
    "    columns = ['o1', 'o2', 'oz']\n",
    "    for trial, i in zip(trials, subjects):\n",
    "        subject[subject['trial'] == trial][columns].to_csv('data/colorado/processed/' + i.replace(\"subject\", 's').replace(\" \", \"\") + '_' + trial.replace(\" \", \"\") + '.csv', index=False)\n"
   ]
  },
  {
   "cell_type": "markdown",
   "metadata": {},
   "source": [
    "## Final processing"
   ]
  },
  {
   "cell_type": "code",
   "execution_count": 9,
   "metadata": {},
   "outputs": [
    {
     "name": "stdout",
     "output_type": "stream",
     "text": [
      "(3, 1000)\n",
      "(3, 1000)\n",
      "(3, 1000)\n",
      "(3, 1000)\n",
      "(3, 1000)\n",
      "(3, 1000)\n",
      "(3, 1000)\n",
      "(3, 1000)\n",
      "(3, 1000)\n",
      "(3, 1000)\n",
      "(3, 1000)\n",
      "(3, 1000)\n",
      "(3, 1000)\n",
      "(3, 1000)\n",
      "(3, 1000)\n",
      "(3, 1000)\n"
     ]
    }
   ],
   "source": [
    "# Processed files at: data/processed/*.csv\n",
    "# Read all the files, and create 4 second (1000 samples) windows for each one, use 0.5s of overlap\n",
    "\n",
    "path = \"data/processed/\"\n",
    "files = listdir(path)\n",
    "\n",
    "fs = 250\n",
    "\n",
    "w_len = 4 * fs\n",
    "\n",
    "overlap = int(0.5 * fs)\n",
    "\n",
    "for file in files:\n",
    "    df = pd.read_csv(path + file)\n",
    "    # 4 seconds of data, 0.5s of overlap\n",
    "    for i in range(0, len(df), w_len - overlap):\n",
    "        if i + w_len < len(df):\n",
    "            df_ = df[i:i+w_len]\n",
    "            out = df_.to_numpy().swapaxes(0, 1)\n",
    "            print(out.shape)\n",
    "            # save the file (npy)\n",
    "            np.save('data/final/0/' + file.replace(\".csv\", \"\") + '_' + str(i) + '.npy', out)\n",
    "            "
   ]
  },
  {
   "cell_type": "markdown",
   "metadata": {},
   "source": [
    "## Train test split"
   ]
  },
  {
   "cell_type": "code",
   "execution_count": 10,
   "metadata": {},
   "outputs": [],
   "source": [
    "def is_perfect_score_subject(file: str, subjects: list):\n",
    "    # re.match(f\"^{subject}_.\\.npy$\", file)\n",
    "    for subject in subjects:\n",
    "        if re.match(f\"^S{subject}_.\\.npy$\", file) is not None:\n",
    "            return True\n",
    "        \n",
    "    return False"
   ]
  },
  {
   "cell_type": "code",
   "execution_count": null,
   "metadata": {},
   "outputs": [],
   "source": [
    "files = listdir(\"data/staged/\")\n",
    "\n",
    "\n",
    "src_path = \"data/staged/\"\n",
    "dst_path_train = \"data/train/\"\n",
    "dst_path_test  = \"data/val/\"\n",
    "\n",
    "perfect_score_subjects = [1, 3, 6, 15, 24, 27, 28, 31, 32]\n",
    "\n",
    "for file in files:\n",
    "    print(file)\n",
    "    files_ = listdir(src_path + file)\n",
    "\n",
    "    # create folders on train and test paths if they don't exist\n",
    "    if not file in listdir(dst_path_train):\n",
    "        makedirs(dst_path_train + file)\n",
    "    if not file in listdir(dst_path_test):\n",
    "        makedirs(dst_path_test + file)\n",
    "\n",
    "    N = len(files_)\n",
    "\n",
    "    for i in range(N):\n",
    "        if is_perfect_score_subject(files_[i], perfect_score_subjects):\n",
    "            print(f\"perfect score subject: {files_[i]}\")\n",
    "            # copy the file to the train folder\n",
    "            shutil.copy(src_path + file + \"/\" + files_[i], dst_path_train + file + \"/\" + files_[i])\n",
    "        else:\n",
    "            # copy the file to the test folder\n",
    "            shutil.copy(src_path + file + \"/\" + files_[i], dst_path_test + file + \"/\" + files_[i])\n"
   ]
  },
  {
   "cell_type": "code",
   "execution_count": 6,
   "metadata": {},
   "outputs": [
    {
     "data": {
      "image/png": "[encoded data removed]",
      "text/plain": [
       "<Figure size 432x288 with 1 Axes>"
      ]
     },
     "metadata": {
      "needs_background": "light"
     },
     "output_type": "display_data"
    }
   ],
   "source": [
    "prr = np.load(\"expr/results/ref_00_b.npy\")\n",
    "prr = prr[3, :, :]\n",
    "colors = ['r', 'g', 'b']\n",
    "\n",
    "for i in range(3):\n",
    "    freqs, psd = signal.welch(prr[i], fs=250)\n",
    "    plt.stem(freqs, psd, label='Electrode ' + str(i+1), use_line_collection=True, linefmt=colors[i], markerfmt=colors[i] + 'o')\n",
    "\n",
    "\n",
    "plt.xlabel('Frequency (Hz)')\n",
    "plt.ylabel('Power/Frequency (dB/Hz)')\n",
    "plt.title('Power Spectral Density of Reference Signal')\n",
    "plt.legend()\n",
    "plt.xlim(0, 35)\n",
    "plt.show()"
   ]
  },
  {
   "cell_type": "code",
   "execution_count": 7,
   "metadata": {},
   "outputs": [
    {
     "name": "stdout",
     "output_type": "stream",
     "text": [
      "(3, 1024)\n"
     ]
    },
    {
     "data": {
      "image/png": "[encoded data removed]",
      "text/plain": [
       "<Figure size 432x288 with 1 Axes>"
      ]
     },
     "metadata": {
      "needs_background": "light"
     },
     "output_type": "display_data"
    }
   ],
   "source": [
    "prr = np.load(\"data/train/0/S1_1.npy\")\n",
    "\n",
    "print(prr.shape)\n",
    "# prr shape = 3, 1024 (3 electrodes, 1024 samples)\n",
    "\n",
    "# Plot the power spectral density of each electrode\n",
    "# put the points and lines in the same plot but with different colors\n",
    "\n",
    "colors = ['r', 'g', 'b']\n",
    "\n",
    "for i in range(3):\n",
    "    freqs, psd = signal.welch(prr[i], fs=250)\n",
    "    plt.stem(freqs, psd, label='Electrode ' + str(i+1), use_line_collection=True, linefmt=colors[i], markerfmt=colors[i] + 'o')\n",
    "\n",
    "\n",
    "plt.xlabel('Frequency (Hz)')\n",
    "plt.ylabel('Power/Frequency (dB/Hz)')\n",
    "plt.title('Power Spectral Density of Reference Signal')\n",
    "plt.legend()\n",
    "plt.xlim(0, 35)\n",
    "plt.show()"
   ]
  },
  {
   "cell_type": "code",
   "execution_count": null,
   "metadata": {},
   "outputs": [],
   "source": []
  }
 ],
 "metadata": {
  "kernelspec": {
   "display_name": "stargan",
   "language": "python",
   "name": "python3"
  },
  "language_info": {
   "codemirror_mode": {
    "name": "ipython",
    "version": 3
   },
   "file_extension": ".py",
   "mimetype": "text/x-python",
   "name": "python",
   "nbconvert_exporter": "python",
   "pygments_lexer": "ipython3",
   "version": "3.6.15"
  },
  "orig_nbformat": 4
 },
 "nbformat": 4,
 "nbformat_minor": 2
}
